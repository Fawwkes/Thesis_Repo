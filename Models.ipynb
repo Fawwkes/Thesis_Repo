{
 "cells": [
  {
   "cell_type": "code",
   "execution_count": 1,
   "id": "4d30e5ea",
   "metadata": {},
   "outputs": [],
   "source": [
    "import pandas as pd\n",
    "import numpy as np\n",
    "import sklearn\n",
    "from matplotlib import pyplot\n",
    "from sklearn.tree import DecisionTreeRegressor\n",
    "from sklearn.metrics import r2_score\n",
    "import matplotlib.pyplot as plt\n",
    "\n",
    "\n",
    "from sklearn.ensemble import RandomForestRegressor\n",
    "from sklearn.model_selection import train_test_split, GridSearchCV\n",
    "from sklearn.model_selection import GridSearchCV\n",
    "from sklearn.ensemble import GradientBoostingRegressor\n",
    "from sklearn.linear_model import LinearRegression\n",
    "from sklearn.preprocessing import PolynomialFeatures\n",
    "from sklearn.pipeline import make_pipeline\n",
    "from sklearn.metrics import mean_squared_error\n",
    "from sklearn.metrics import mean_absolute_error\n",
    "from sklearn.metrics import mean_absolute_percentage_error\n",
    "from sklearn.datasets import load_iris\n",
    "from sklearn import tree\n"
   ]
  },
  {
   "cell_type": "code",
   "execution_count": 2,
   "id": "1f7d4cac",
   "metadata": {},
   "outputs": [],
   "source": [
    "\n",
    "df1 = pd.read_csv('combined_datasets_csv.csv')\n",
    "\n",
    "# df2 = df1.describe(include='all')\n",
    "\n",
    "# df2.to_excel('summary_statistics.xlsx')\n",
    "\n"
   ]
  },
  {
   "cell_type": "code",
   "execution_count": 3,
   "id": "f332c47b",
   "metadata": {},
   "outputs": [],
   "source": [
    "### MODELS\n",
    "\n",
    "\n",
    "\n",
    "X = df1.copy()\n",
    "\n",
    "X = X.drop(['SH_Price', 'Model'], axis=1)\n",
    "y = df1['SH_Price']\n",
    "\n",
    "# print(X)\n",
    "# print(y)\n",
    "\n",
    "# one-hot encoding for all variables\n",
    "X = pd.get_dummies(X, columns=['Brand', 'Color', 'Condition', 'Date_Extracted'], drop_first=True)\n",
    "\n",
    "# split the data with 70/30 proportions for training and testing\n",
    "X_train, X_test, y_train, y_test = train_test_split(X, y, test_size=0.30, random_state=666)\n"
   ]
  },
  {
   "cell_type": "code",
   "execution_count": 7,
   "id": "4818039d",
   "metadata": {},
   "outputs": [
    {
     "data": {
      "text/plain": [
       "<AxesSubplot:>"
      ]
     },
     "execution_count": 7,
     "metadata": {},
     "output_type": "execute_result"
    },
    {
     "data": {
      "image/png": "[encoded data removed]",
      "text/plain": [
       "<Figure size 432x288 with 1 Axes>"
      ]
     },
     "metadata": {
      "needs_background": "light"
     },
     "output_type": "display_data"
    }
   ],
   "source": [
    "df1['Brand'].value_counts().plot(kind = 'bar')"
   ]
  },
  {
   "cell_type": "code",
   "execution_count": 10,
   "id": "29e78284",
   "metadata": {},
   "outputs": [],
   "source": [
    "dfModel = df1.groupby('Brand').Model.nunique()\n"
   ]
  },
  {
   "cell_type": "code",
   "execution_count": 14,
   "id": "ee15e7b2",
   "metadata": {},
   "outputs": [
    {
     "data": {
      "text/plain": [
       "Brand\n",
       "Apple      691\n",
       "Huawei     169\n",
       "Samsung    329\n",
       "Xiaomi      96\n",
       "Name: Model, dtype: int64"
      ]
     },
     "execution_count": 14,
     "metadata": {},
     "output_type": "execute_result"
    }
   ],
   "source": [
    "df1.groupby('Brand').Model.count()"
   ]
  },
  {
   "cell_type": "code",
   "execution_count": 12,
   "id": "a78e3bf2",
   "metadata": {},
   "outputs": [
    {
     "data": {
      "text/plain": [
       "<AxesSubplot:xlabel='Brand'>"
      ]
     },
     "execution_count": 12,
     "metadata": {},
     "output_type": "execute_result"
    },
    {
     "data": {
      "image/png": "[encoded data removed]",
      "text/plain": [
       "<Figure size 432x288 with 1 Axes>"
      ]
     },
     "metadata": {
      "needs_background": "light"
     },
     "output_type": "display_data"
    }
   ],
   "source": [
    "dfModel.plot(kind = 'bar')"
   ]
  },
  {
   "cell_type": "code",
   "execution_count": 8,
   "id": "3f8dd5c2",
   "metadata": {},
   "outputs": [
    {
     "data": {
      "text/plain": [
       "array([[<AxesSubplot:title={'center':'SH_Price'}>]], dtype=object)"
      ]
     },
     "execution_count": 8,
     "metadata": {},
     "output_type": "execute_result"
    },
    {
     "data": {
      "image/png": "[encoded data removed]",
      "text/plain": [
       "<Figure size 432x288 with 1 Axes>"
      ]
     },
     "metadata": {
      "needs_background": "light"
     },
     "output_type": "display_data"
    }
   ],
   "source": [
    "df1.hist(column = 'SH_Price', bins = 20)"
   ]
  },
  {
   "cell_type": "code",
   "execution_count": 10,
   "id": "ac41a646",
   "metadata": {},
   "outputs": [
    {
     "data": {
      "text/plain": [
       "array([[<AxesSubplot:title={'center':'New_Price'}>]], dtype=object)"
      ]
     },
     "execution_count": 10,
     "metadata": {},
     "output_type": "execute_result"
    },
    {
     "data": {
      "image/png": "[encoded data removed]",
      "text/plain": [
       "<Figure size 432x288 with 1 Axes>"
      ]
     },
     "metadata": {
      "needs_background": "light"
     },
     "output_type": "display_data"
    }
   ],
   "source": [
    "df1.hist(column = 'New_Price')"
   ]
  },
  {
   "cell_type": "code",
   "execution_count": 4,
   "id": "a5ff316f",
   "metadata": {},
   "outputs": [
    {
     "data": {
      "text/plain": [
       "214.04038200224147"
      ]
     },
     "execution_count": 4,
     "metadata": {},
     "output_type": "execute_result"
    }
   ],
   "source": [
    "### LINEAR REGRESSION\n",
    "\n",
    "linear_model = LinearRegression(fit_intercept=True)\n",
    "\n",
    "linear_model.fit(X_train,y_train)\n",
    "\n",
    "# model prediction\n",
    "y_predict = linear_model.predict(X_train)\n",
    "\n",
    "# model performance\n",
    "r2_score(y_train, y_predict)\n",
    "\n",
    "# model prediction\n",
    "y_predict = linear_model.predict(X_test)\n",
    "\n",
    "# test set\n",
    "r2_score(y_test, y_predict)\n",
    "\n",
    "mean_absolute_error(y_test, y_predict)"
   ]
  },
  {
   "cell_type": "code",
   "execution_count": 5,
   "id": "ffd4f1e9",
   "metadata": {},
   "outputs": [
    {
     "data": {
      "text/plain": [
       "0.12984683311778775"
      ]
     },
     "execution_count": 5,
     "metadata": {},
     "output_type": "execute_result"
    }
   ],
   "source": [
    "mean_absolute_percentage_error(y_test, y_predict)"
   ]
  },
  {
   "cell_type": "code",
   "execution_count": 6,
   "id": "5e947e00",
   "metadata": {},
   "outputs": [
    {
     "data": {
      "text/plain": [
       "0.9659178624184859"
      ]
     },
     "execution_count": 6,
     "metadata": {},
     "output_type": "execute_result"
    }
   ],
   "source": [
    "# test set\n",
    "r2_score(y_test, y_predict)"
   ]
  },
  {
   "cell_type": "code",
   "execution_count": 32,
   "id": "7a2bcb7c",
   "metadata": {},
   "outputs": [
    {
     "data": {
      "text/plain": [
       "New_Price                    2800.0\n",
       "Memory                         64.0\n",
       "Ram                             4.0\n",
       "Resolution                    820.0\n",
       "Battery_size                 3110.0\n",
       "No_Rear_Cameras                 2.0\n",
       "Model_year                   2019.0\n",
       "Rating                          4.2\n",
       "Brand_Huawei                    0.0\n",
       "Brand_Samsung                   0.0\n",
       "Brand_Xiaomi                    0.0\n",
       "Color_Blue                      0.0\n",
       "Color_Bronze                    0.0\n",
       "Color_Coral                     0.0\n",
       "Color_Gold                      0.0\n",
       "Color_Green                     0.0\n",
       "Color_Grey                      0.0\n",
       "Color_Other                     0.0\n",
       "Color_Pink                      0.0\n",
       "Color_Purple                    0.0\n",
       "Color_Red                       0.0\n",
       "Color_White                     0.0\n",
       "Color_Yellow                    0.0\n",
       "Condition_  Ca Nou              1.0\n",
       "Condition_  Excelent            0.0\n",
       "Condition_  Foarte Bun          0.0\n",
       "Date_Extracted_30.04.2022       0.0\n",
       "Name: 384, dtype: float64"
      ]
     },
     "execution_count": 32,
     "metadata": {},
     "output_type": "execute_result"
    }
   ],
   "source": [
    "X_test.iloc[10]"
   ]
  },
  {
   "cell_type": "code",
   "execution_count": 27,
   "id": "504f722c",
   "metadata": {},
   "outputs": [
    {
     "name": "stdout",
     "output_type": "stream",
     "text": [
      "Feature: 0, Score: 0.65165\n",
      "Feature: 1, Score: 1.04035\n",
      "Feature: 2, Score: -39.39114\n",
      "Feature: 3, Score: -0.14732\n",
      "Feature: 4, Score: 0.08484\n",
      "Feature: 5, Score: -28.94486\n",
      "Feature: 6, Score: 139.99947\n",
      "Feature: 7, Score: -29.66879\n",
      "Feature: 8, Score: -252.59491\n",
      "Feature: 9, Score: -174.29475\n",
      "Feature: 10, Score: -351.04003\n",
      "Feature: 11, Score: 53.85236\n",
      "Feature: 12, Score: 0.00000\n",
      "Feature: 13, Score: 11.78341\n",
      "Feature: 14, Score: -103.09758\n",
      "Feature: 15, Score: -73.47604\n",
      "Feature: 16, Score: 0.72558\n",
      "Feature: 17, Score: 45.57900\n",
      "Feature: 18, Score: 13.08521\n",
      "Feature: 19, Score: -45.75067\n",
      "Feature: 20, Score: -49.76247\n",
      "Feature: 21, Score: -77.17656\n",
      "Feature: 22, Score: -173.96949\n",
      "Feature: 23, Score: 318.08913\n",
      "Feature: 24, Score: 213.97552\n",
      "Feature: 25, Score: 113.54174\n",
      "Feature: 26, Score: -0.78173\n"
     ]
    },
    {
     "data": {
      "image/png": "[encoded data removed]",
      "text/plain": [
       "<Figure size 432x288 with 1 Axes>"
      ]
     },
     "metadata": {
      "needs_background": "light"
     },
     "output_type": "display_data"
    }
   ],
   "source": [
    "from sklearn.datasets import make_regression\n",
    "from sklearn.linear_model import LinearRegression\n",
    "from matplotlib import pyplot\n",
    "\n",
    "# get importance\n",
    "importance = linear_model.coef_\n",
    "# summarize feature importance\n",
    "for i,v in enumerate(importance):\n",
    "\tprint('Feature: %0d, Score: %.5f' % (i,v))\n",
    "# plot feature importance\n",
    "pyplot.bar([x for x in range(len(importance))], importance)\n",
    "pyplot.show()"
   ]
  },
  {
   "cell_type": "code",
   "execution_count": 7,
   "id": "d9327803",
   "metadata": {},
   "outputs": [],
   "source": [
    "### DECISION TREE\n",
    "\n",
    "# grid search & model selection and tuning\n",
    "param_grid = {'random_state': [80,90,100],\n",
    "              'max_depth': [10,20,30],\n",
    "              'min_samples_leaf': [3,5]}\n",
    "\n",
    "grid_dt = GridSearchCV(DecisionTreeRegressor(),\n",
    "                    param_grid, cv=5)\n",
    "\n",
    "grid_dt.fit(X_train, y_train)\n",
    "\n",
    "# best model\n",
    "best_model_dt = grid_dt.best_estimator_\n",
    "\n",
    "# best model score for the training set\n",
    "grid_dt.best_score_ \n",
    "\n",
    "# R2 score on the test set \n",
    "best_model_dt.score(X_test,y_test) \n",
    "\n",
    "y_predict = best_model_dt.predict(X_test)\n"
   ]
  },
  {
   "cell_type": "code",
   "execution_count": 8,
   "id": "808c61d0",
   "metadata": {},
   "outputs": [
    {
     "data": {
      "text/plain": [
       "0.9918072426342759"
      ]
     },
     "execution_count": 8,
     "metadata": {},
     "output_type": "execute_result"
    }
   ],
   "source": [
    "best_model_dt.score(X_test,y_test) \n"
   ]
  },
  {
   "cell_type": "code",
   "execution_count": 9,
   "id": "f8eb35e9",
   "metadata": {},
   "outputs": [
    {
     "data": {
      "text/plain": [
       "DecisionTreeRegressor(max_depth=20, min_samples_leaf=3, random_state=100)"
      ]
     },
     "execution_count": 9,
     "metadata": {},
     "output_type": "execute_result"
    }
   ],
   "source": [
    "best_model_dt"
   ]
  },
  {
   "cell_type": "code",
   "execution_count": 10,
   "id": "f95c10f4",
   "metadata": {},
   "outputs": [
    {
     "data": {
      "text/plain": [
       "68.7018874907476"
      ]
     },
     "execution_count": 10,
     "metadata": {},
     "output_type": "execute_result"
    }
   ],
   "source": [
    "# y_pred = best_model_dt.predict(X_test)\n",
    "\n",
    "#mean_squared_error(y_test, y_pred, squared=False)\n",
    "mean_absolute_error(y_test, y_predict)"
   ]
  },
  {
   "cell_type": "code",
   "execution_count": 11,
   "id": "93c76377",
   "metadata": {},
   "outputs": [
    {
     "data": {
      "text/plain": [
       "0.03604763062964456"
      ]
     },
     "execution_count": 11,
     "metadata": {},
     "output_type": "execute_result"
    }
   ],
   "source": [
    "mean_absolute_percentage_error(y_test, y_predict)"
   ]
  },
  {
   "cell_type": "code",
   "execution_count": 37,
   "id": "f1be952b",
   "metadata": {},
   "outputs": [
    {
     "name": "stdout",
     "output_type": "stream",
     "text": [
      "Feature: 0, Score: 0.96696\n",
      "Feature: 1, Score: 0.00156\n",
      "Feature: 2, Score: 0.00404\n",
      "Feature: 3, Score: 0.00178\n",
      "Feature: 4, Score: 0.00552\n",
      "Feature: 5, Score: 0.00052\n",
      "Feature: 6, Score: 0.01230\n",
      "Feature: 7, Score: 0.00399\n",
      "Feature: 8, Score: 0.00005\n",
      "Feature: 9, Score: 0.00029\n",
      "Feature: 10, Score: 0.00008\n",
      "Feature: 11, Score: 0.00004\n",
      "Feature: 12, Score: 0.00000\n",
      "Feature: 13, Score: 0.00000\n",
      "Feature: 14, Score: 0.00008\n",
      "Feature: 15, Score: 0.00001\n",
      "Feature: 16, Score: 0.00002\n",
      "Feature: 17, Score: 0.00036\n",
      "Feature: 18, Score: 0.00006\n",
      "Feature: 19, Score: 0.00000\n",
      "Feature: 20, Score: 0.00000\n",
      "Feature: 21, Score: 0.00001\n",
      "Feature: 22, Score: 0.00000\n",
      "Feature: 23, Score: 0.00061\n",
      "Feature: 24, Score: 0.00054\n",
      "Feature: 25, Score: 0.00056\n",
      "Feature: 26, Score: 0.00061\n"
     ]
    },
    {
     "data": {
      "image/png": "[encoded data removed]",
      "text/plain": [
       "<Figure size 432x288 with 1 Axes>"
      ]
     },
     "metadata": {
      "needs_background": "light"
     },
     "output_type": "display_data"
    }
   ],
   "source": [
    "# # get importance\n",
    "importance = best_model_dt.feature_importances_\n",
    "# summarize feature importance\n",
    "for i, v in enumerate(importance):\n",
    "    print('Feature: %0d, Score: %.5f' % (i, v))\n",
    "# plot feature importance\n",
    "pyplot.bar([x for x in range(len(importance))], importance)\n",
    "pyplot.show()\n"
   ]
  },
  {
   "cell_type": "code",
   "execution_count": 48,
   "id": "c1253bdc",
   "metadata": {},
   "outputs": [
    {
     "data": {
      "image/png": "[encoded data removed]",
      "text/plain": [
       "<Figure size 1080x1080 with 1 Axes>"
      ]
     },
     "metadata": {
      "needs_background": "light"
     },
     "output_type": "display_data"
    }
   ],
   "source": [
    "plt.figure(figsize=(15, 15))\n",
    "tree.plot_tree(best_model_dt)\n",
    "plt.show()"
   ]
  },
  {
   "cell_type": "code",
   "execution_count": 11,
   "id": "7169f999",
   "metadata": {},
   "outputs": [
    {
     "ename": "ValueError",
     "evalue": "x and y must be the same size",
     "output_type": "error",
     "traceback": [
      "\u001b[1;31m---------------------------------------------------------------------------\u001b[0m",
      "\u001b[1;31mValueError\u001b[0m                                Traceback (most recent call last)",
      "\u001b[1;32m~\\AppData\\Local\\Temp/ipykernel_4064/651925147.py\u001b[0m in \u001b[0;36m<module>\u001b[1;34m\u001b[0m\n\u001b[1;32m----> 1\u001b[1;33m \u001b[0mplt\u001b[0m\u001b[1;33m.\u001b[0m\u001b[0mscatter\u001b[0m\u001b[1;33m(\u001b[0m\u001b[0mX_test\u001b[0m\u001b[1;33m,\u001b[0m \u001b[0my_test\u001b[0m\u001b[1;33m,\u001b[0m \u001b[0mcolor\u001b[0m \u001b[1;33m=\u001b[0m \u001b[1;34m'red'\u001b[0m\u001b[1;33m)\u001b[0m\u001b[1;33m\u001b[0m\u001b[1;33m\u001b[0m\u001b[0m\n\u001b[0m\u001b[0;32m      2\u001b[0m \u001b[1;31m# plt.plt(xTrain, best_model_dt.predict(X_test), color = 'blue')plt.title('Salary vs Experience (Test set)')plt.xlabel('Years of Experience')plt.ylabel('Salary')\u001b[0m\u001b[1;33m\u001b[0m\u001b[1;33m\u001b[0m\u001b[1;33m\u001b[0m\u001b[0m\n\u001b[0;32m      3\u001b[0m \u001b[0mplt\u001b[0m\u001b[1;33m.\u001b[0m\u001b[0mshow\u001b[0m\u001b[1;33m(\u001b[0m\u001b[1;33m)\u001b[0m\u001b[1;33m\u001b[0m\u001b[1;33m\u001b[0m\u001b[0m\n",
      "\u001b[1;32m~\\anaconda3\\envs\\python38\\lib\\site-packages\\matplotlib\\pyplot.py\u001b[0m in \u001b[0;36mscatter\u001b[1;34m(x, y, s, c, marker, cmap, norm, vmin, vmax, alpha, linewidths, edgecolors, plotnonfinite, data, **kwargs)\u001b[0m\n\u001b[0;32m   2805\u001b[0m         \u001b[0mvmin\u001b[0m\u001b[1;33m=\u001b[0m\u001b[1;32mNone\u001b[0m\u001b[1;33m,\u001b[0m \u001b[0mvmax\u001b[0m\u001b[1;33m=\u001b[0m\u001b[1;32mNone\u001b[0m\u001b[1;33m,\u001b[0m \u001b[0malpha\u001b[0m\u001b[1;33m=\u001b[0m\u001b[1;32mNone\u001b[0m\u001b[1;33m,\u001b[0m \u001b[0mlinewidths\u001b[0m\u001b[1;33m=\u001b[0m\u001b[1;32mNone\u001b[0m\u001b[1;33m,\u001b[0m \u001b[1;33m*\u001b[0m\u001b[1;33m,\u001b[0m\u001b[1;33m\u001b[0m\u001b[1;33m\u001b[0m\u001b[0m\n\u001b[0;32m   2806\u001b[0m         edgecolors=None, plotnonfinite=False, data=None, **kwargs):\n\u001b[1;32m-> 2807\u001b[1;33m     __ret = gca().scatter(\n\u001b[0m\u001b[0;32m   2808\u001b[0m         \u001b[0mx\u001b[0m\u001b[1;33m,\u001b[0m \u001b[0my\u001b[0m\u001b[1;33m,\u001b[0m \u001b[0ms\u001b[0m\u001b[1;33m=\u001b[0m\u001b[0ms\u001b[0m\u001b[1;33m,\u001b[0m \u001b[0mc\u001b[0m\u001b[1;33m=\u001b[0m\u001b[0mc\u001b[0m\u001b[1;33m,\u001b[0m \u001b[0mmarker\u001b[0m\u001b[1;33m=\u001b[0m\u001b[0mmarker\u001b[0m\u001b[1;33m,\u001b[0m \u001b[0mcmap\u001b[0m\u001b[1;33m=\u001b[0m\u001b[0mcmap\u001b[0m\u001b[1;33m,\u001b[0m \u001b[0mnorm\u001b[0m\u001b[1;33m=\u001b[0m\u001b[0mnorm\u001b[0m\u001b[1;33m,\u001b[0m\u001b[1;33m\u001b[0m\u001b[1;33m\u001b[0m\u001b[0m\n\u001b[0;32m   2809\u001b[0m         \u001b[0mvmin\u001b[0m\u001b[1;33m=\u001b[0m\u001b[0mvmin\u001b[0m\u001b[1;33m,\u001b[0m \u001b[0mvmax\u001b[0m\u001b[1;33m=\u001b[0m\u001b[0mvmax\u001b[0m\u001b[1;33m,\u001b[0m \u001b[0malpha\u001b[0m\u001b[1;33m=\u001b[0m\u001b[0malpha\u001b[0m\u001b[1;33m,\u001b[0m \u001b[0mlinewidths\u001b[0m\u001b[1;33m=\u001b[0m\u001b[0mlinewidths\u001b[0m\u001b[1;33m,\u001b[0m\u001b[1;33m\u001b[0m\u001b[1;33m\u001b[0m\u001b[0m\n",
      "\u001b[1;32m~\\anaconda3\\envs\\python38\\lib\\site-packages\\matplotlib\\__init__.py\u001b[0m in \u001b[0;36minner\u001b[1;34m(ax, data, *args, **kwargs)\u001b[0m\n\u001b[0;32m   1410\u001b[0m     \u001b[1;32mdef\u001b[0m \u001b[0minner\u001b[0m\u001b[1;33m(\u001b[0m\u001b[0max\u001b[0m\u001b[1;33m,\u001b[0m \u001b[1;33m*\u001b[0m\u001b[0margs\u001b[0m\u001b[1;33m,\u001b[0m \u001b[0mdata\u001b[0m\u001b[1;33m=\u001b[0m\u001b[1;32mNone\u001b[0m\u001b[1;33m,\u001b[0m \u001b[1;33m**\u001b[0m\u001b[0mkwargs\u001b[0m\u001b[1;33m)\u001b[0m\u001b[1;33m:\u001b[0m\u001b[1;33m\u001b[0m\u001b[1;33m\u001b[0m\u001b[0m\n\u001b[0;32m   1411\u001b[0m         \u001b[1;32mif\u001b[0m \u001b[0mdata\u001b[0m \u001b[1;32mis\u001b[0m \u001b[1;32mNone\u001b[0m\u001b[1;33m:\u001b[0m\u001b[1;33m\u001b[0m\u001b[1;33m\u001b[0m\u001b[0m\n\u001b[1;32m-> 1412\u001b[1;33m             \u001b[1;32mreturn\u001b[0m \u001b[0mfunc\u001b[0m\u001b[1;33m(\u001b[0m\u001b[0max\u001b[0m\u001b[1;33m,\u001b[0m \u001b[1;33m*\u001b[0m\u001b[0mmap\u001b[0m\u001b[1;33m(\u001b[0m\u001b[0msanitize_sequence\u001b[0m\u001b[1;33m,\u001b[0m \u001b[0margs\u001b[0m\u001b[1;33m)\u001b[0m\u001b[1;33m,\u001b[0m \u001b[1;33m**\u001b[0m\u001b[0mkwargs\u001b[0m\u001b[1;33m)\u001b[0m\u001b[1;33m\u001b[0m\u001b[1;33m\u001b[0m\u001b[0m\n\u001b[0m\u001b[0;32m   1413\u001b[0m \u001b[1;33m\u001b[0m\u001b[0m\n\u001b[0;32m   1414\u001b[0m         \u001b[0mbound\u001b[0m \u001b[1;33m=\u001b[0m \u001b[0mnew_sig\u001b[0m\u001b[1;33m.\u001b[0m\u001b[0mbind\u001b[0m\u001b[1;33m(\u001b[0m\u001b[0max\u001b[0m\u001b[1;33m,\u001b[0m \u001b[1;33m*\u001b[0m\u001b[0margs\u001b[0m\u001b[1;33m,\u001b[0m \u001b[1;33m**\u001b[0m\u001b[0mkwargs\u001b[0m\u001b[1;33m)\u001b[0m\u001b[1;33m\u001b[0m\u001b[1;33m\u001b[0m\u001b[0m\n",
      "\u001b[1;32m~\\anaconda3\\envs\\python38\\lib\\site-packages\\matplotlib\\axes\\_axes.py\u001b[0m in \u001b[0;36mscatter\u001b[1;34m(self, x, y, s, c, marker, cmap, norm, vmin, vmax, alpha, linewidths, edgecolors, plotnonfinite, **kwargs)\u001b[0m\n\u001b[0;32m   4321\u001b[0m         \u001b[0my\u001b[0m \u001b[1;33m=\u001b[0m \u001b[0mnp\u001b[0m\u001b[1;33m.\u001b[0m\u001b[0mma\u001b[0m\u001b[1;33m.\u001b[0m\u001b[0mravel\u001b[0m\u001b[1;33m(\u001b[0m\u001b[0my\u001b[0m\u001b[1;33m)\u001b[0m\u001b[1;33m\u001b[0m\u001b[1;33m\u001b[0m\u001b[0m\n\u001b[0;32m   4322\u001b[0m         \u001b[1;32mif\u001b[0m \u001b[0mx\u001b[0m\u001b[1;33m.\u001b[0m\u001b[0msize\u001b[0m \u001b[1;33m!=\u001b[0m \u001b[0my\u001b[0m\u001b[1;33m.\u001b[0m\u001b[0msize\u001b[0m\u001b[1;33m:\u001b[0m\u001b[1;33m\u001b[0m\u001b[1;33m\u001b[0m\u001b[0m\n\u001b[1;32m-> 4323\u001b[1;33m             \u001b[1;32mraise\u001b[0m \u001b[0mValueError\u001b[0m\u001b[1;33m(\u001b[0m\u001b[1;34m\"x and y must be the same size\"\u001b[0m\u001b[1;33m)\u001b[0m\u001b[1;33m\u001b[0m\u001b[1;33m\u001b[0m\u001b[0m\n\u001b[0m\u001b[0;32m   4324\u001b[0m \u001b[1;33m\u001b[0m\u001b[0m\n\u001b[0;32m   4325\u001b[0m         \u001b[1;32mif\u001b[0m \u001b[0ms\u001b[0m \u001b[1;32mis\u001b[0m \u001b[1;32mNone\u001b[0m\u001b[1;33m:\u001b[0m\u001b[1;33m\u001b[0m\u001b[1;33m\u001b[0m\u001b[0m\n",
      "\u001b[1;31mValueError\u001b[0m: x and y must be the same size"
     ]
    },
    {
     "data": {
      "image/png": "[encoded data removed]",
      "text/plain": [
       "<Figure size 432x288 with 1 Axes>"
      ]
     },
     "metadata": {
      "needs_background": "light"
     },
     "output_type": "display_data"
    }
   ],
   "source": []
  },
  {
   "cell_type": "code",
   "execution_count": 12,
   "id": "15c3cc62",
   "metadata": {},
   "outputs": [
    {
     "name": "stdout",
     "output_type": "stream",
     "text": [
      "RandomForestRegressor(max_depth=180, min_samples_split=5, n_estimators=590)\n",
      "0.9943200614002006\n"
     ]
    }
   ],
   "source": [
    "### RANDOM FOREST\n",
    "\n",
    "# model selection and tuning\n",
    "param_grid = {'n_estimators': [580, 590, 600],\n",
    "              'max_depth': [10, 20, 50, 180, 190, 200],\n",
    "              'min_samples_split': [5, 25, 50]}\n",
    "\n",
    "grid_rf = GridSearchCV(RandomForestRegressor(),\n",
    "                       param_grid, cv=10)\n",
    "\n",
    "grid_rf.fit(X_train, y_train)\n",
    "\n",
    "# best model\n",
    "best_model_rf = grid_rf.best_estimator_\n",
    "print(best_model_rf)\n",
    "\n",
    "# best model score for the training set\n",
    "# print(grid_rf.best_score_)\n",
    "\n",
    "# R2 score on the test set\n",
    "print(best_model_rf.score(X_test, y_test))\n",
    "\n"
   ]
  },
  {
   "cell_type": "code",
   "execution_count": 6,
   "id": "345e8495",
   "metadata": {},
   "outputs": [
    {
     "name": "stdout",
     "output_type": "stream",
     "text": [
      "RandomForestRegressor(max_depth=50, min_samples_split=5, n_estimators=400)\n",
      "0.9944528546115634\n"
     ]
    }
   ],
   "source": [
    "### MORE parameters to tune\n",
    "\n",
    "### RANDOM FOREST\n",
    "\n",
    "# model selection and tuning\n",
    "param_grid = {'n_estimators': [100, 200, 300, 400, 500],\n",
    "              'max_depth': [10, 20, 50, 180, 190, 200],\n",
    "              'min_samples_split': [5, 25, 50]}\n",
    "\n",
    "grid_rf = GridSearchCV(RandomForestRegressor(),\n",
    "                       param_grid, cv=10)\n",
    "\n",
    "grid_rf.fit(X_train, y_train)\n",
    "\n",
    "# best model\n",
    "best_model_rf = grid_rf.best_estimator_\n",
    "print(best_model_rf)\n",
    "\n",
    "# best model score for the training set\n",
    "# print(grid_rf.best_score_)\n",
    "\n",
    "# R2 score on the test set\n",
    "print(best_model_rf.score(X_test, y_test))\n",
    "\n"
   ]
  },
  {
   "cell_type": "code",
   "execution_count": 13,
   "id": "850786da",
   "metadata": {},
   "outputs": [
    {
     "data": {
      "text/plain": [
       "57.99485362080901"
      ]
     },
     "execution_count": 13,
     "metadata": {},
     "output_type": "execute_result"
    }
   ],
   "source": [
    "y_pred = best_model_rf.predict(X_test)\n",
    "\n",
    "mean_absolute_error(y_test, y_pred)"
   ]
  },
  {
   "cell_type": "code",
   "execution_count": 14,
   "id": "2c209aae",
   "metadata": {},
   "outputs": [
    {
     "data": {
      "text/plain": [
       "0.03034088071166223"
      ]
     },
     "execution_count": 14,
     "metadata": {},
     "output_type": "execute_result"
    }
   ],
   "source": [
    "mean_absolute_percentage_error(y_test, y_pred)"
   ]
  },
  {
   "cell_type": "code",
   "execution_count": null,
   "id": "a854d156",
   "metadata": {},
   "outputs": [],
   "source": [
    "### Variable importance"
   ]
  },
  {
   "cell_type": "code",
   "execution_count": 8,
   "id": "b4b1b6aa",
   "metadata": {},
   "outputs": [
    {
     "name": "stdout",
     "output_type": "stream",
     "text": [
      "Feature: 0, Score: 0.97446\n",
      "Feature: 1, Score: 0.00158\n",
      "Feature: 2, Score: 0.00091\n",
      "Feature: 3, Score: 0.00197\n",
      "Feature: 4, Score: 0.00456\n",
      "Feature: 5, Score: 0.00071\n",
      "Feature: 6, Score: 0.01111\n",
      "Feature: 7, Score: 0.00352\n",
      "Feature: 8, Score: 0.00019\n",
      "Feature: 9, Score: 0.00010\n",
      "Feature: 10, Score: 0.00001\n",
      "Feature: 11, Score: 0.00001\n",
      "Feature: 12, Score: 0.00000\n",
      "Feature: 13, Score: 0.00000\n",
      "Feature: 14, Score: 0.00003\n",
      "Feature: 15, Score: 0.00000\n",
      "Feature: 16, Score: 0.00002\n",
      "Feature: 17, Score: 0.00006\n",
      "Feature: 18, Score: 0.00002\n",
      "Feature: 19, Score: 0.00000\n",
      "Feature: 20, Score: 0.00001\n",
      "Feature: 21, Score: 0.00000\n",
      "Feature: 22, Score: 0.00000\n",
      "Feature: 23, Score: 0.00034\n",
      "Feature: 24, Score: 0.00021\n",
      "Feature: 25, Score: 0.00010\n",
      "Feature: 26, Score: 0.00006\n"
     ]
    },
    {
     "data": {
      "image/png": "[encoded data removed]",
      "text/plain": [
       "<Figure size 432x288 with 1 Axes>"
      ]
     },
     "metadata": {
      "needs_background": "light"
     },
     "output_type": "display_data"
    }
   ],
   "source": [
    "# # get importance\n",
    "importance = best_model_rf.feature_importances_\n",
    "# summarize feature importance\n",
    "for i, v in enumerate(importance):\n",
    "    print('Feature: %0d, Score: %.5f' % (i, v))\n",
    "# plot feature importance\n",
    "pyplot.bar([x for x in range(len(importance))], importance)\n",
    "pyplot.show()\n"
   ]
  },
  {
   "cell_type": "code",
   "execution_count": 15,
   "id": "cddf40ee",
   "metadata": {},
   "outputs": [
    {
     "name": "stdout",
     "output_type": "stream",
     "text": [
      "GradientBoostingRegressor(learning_rate=0.5, n_estimators=200)\n",
      "0.9955863617362605\n"
     ]
    }
   ],
   "source": [
    "### GRADIENT BOOSTING REGRESSION\n",
    "\n",
    "\n",
    "\n",
    "\n",
    "param_grid = {'n_estimators': [50, 100, 200],\n",
    "              'learning_rate': [.01, .1, .5, 1, 1.5]}\n",
    "\n",
    "grid_br = GridSearchCV(GradientBoostingRegressor(),\n",
    "                       param_grid, cv=5)\n",
    "\n",
    "grid_br.fit(X_train, y_train)\n",
    "\n",
    "grid_br.best_params_\n",
    "\n",
    "# best model\n",
    "best_model_br = grid_br.best_estimator_\n",
    "print(best_model_br)\n",
    "# best model score for the training set\n",
    "grid_br.best_score_\n",
    "\n",
    "# best model score for the test set\n",
    "# test set checking\n",
    "print(best_model_br.score(X_test, y_test))\n"
   ]
  },
  {
   "cell_type": "code",
   "execution_count": 16,
   "id": "0272369e",
   "metadata": {},
   "outputs": [
    {
     "data": {
      "text/plain": [
       "42.23845072311489"
      ]
     },
     "execution_count": 16,
     "metadata": {},
     "output_type": "execute_result"
    }
   ],
   "source": [
    "y_pred = best_model_br.predict(X_test)\n",
    "\n",
    "mean_absolute_error(y_test, y_pred)"
   ]
  },
  {
   "cell_type": "code",
   "execution_count": 17,
   "id": "15722d83",
   "metadata": {},
   "outputs": [
    {
     "data": {
      "text/plain": [
       "0.020750494639055508"
      ]
     },
     "execution_count": 17,
     "metadata": {},
     "output_type": "execute_result"
    }
   ],
   "source": [
    "mean_absolute_percentage_error(y_test, y_pred)"
   ]
  },
  {
   "cell_type": "code",
   "execution_count": 70,
   "id": "54bcd9c4",
   "metadata": {},
   "outputs": [
    {
     "name": "stdout",
     "output_type": "stream",
     "text": [
      "Feature: 0, Score: 0.96579\n",
      "Feature: 1, Score: 0.00258\n",
      "Feature: 2, Score: 0.00150\n",
      "Feature: 3, Score: 0.00064\n",
      "Feature: 4, Score: 0.00336\n",
      "Feature: 5, Score: 0.00340\n",
      "Feature: 6, Score: 0.01272\n",
      "Feature: 7, Score: 0.00562\n",
      "Feature: 8, Score: 0.00002\n",
      "Feature: 9, Score: 0.00015\n",
      "Feature: 10, Score: 0.00012\n",
      "Feature: 11, Score: 0.00001\n",
      "Feature: 12, Score: 0.00000\n",
      "Feature: 13, Score: 0.00000\n",
      "Feature: 14, Score: 0.00004\n",
      "Feature: 15, Score: 0.00000\n",
      "Feature: 16, Score: 0.00032\n",
      "Feature: 17, Score: 0.00007\n",
      "Feature: 18, Score: 0.00001\n",
      "Feature: 19, Score: 0.00000\n",
      "Feature: 20, Score: 0.00005\n",
      "Feature: 21, Score: 0.00004\n",
      "Feature: 22, Score: 0.00000\n",
      "Feature: 23, Score: 0.00170\n",
      "Feature: 24, Score: 0.00103\n",
      "Feature: 25, Score: 0.00052\n",
      "Feature: 26, Score: 0.00031\n"
     ]
    },
    {
     "data": {
      "image/png": "[encoded data removed]",
      "text/plain": [
       "<Figure size 432x288 with 1 Axes>"
      ]
     },
     "metadata": {
      "needs_background": "light"
     },
     "output_type": "display_data"
    }
   ],
   "source": [
    "# # get importance\n",
    "importance = best_model_br.feature_importances_\n",
    "# summarize feature importance\n",
    "for i, v in enumerate(importance):\n",
    "    print('Feature: %0d, Score: %.5f' % (i, v))\n",
    "# plot feature importance\n",
    "pyplot.bar([x for x in range(len(importance))], importance)\n",
    "pyplot.show()"
   ]
  },
  {
   "cell_type": "code",
   "execution_count": null,
   "id": "0a1851d5",
   "metadata": {},
   "outputs": [],
   "source": [
    "#################### NO NEW PRICE"
   ]
  },
  {
   "cell_type": "code",
   "execution_count": 18,
   "id": "c8422865",
   "metadata": {},
   "outputs": [],
   "source": [
    "# Dataset split\n",
    "\n",
    "X = df1.copy()\n",
    "\n",
    "X = X.drop(['SH_Price', 'Model', 'New_Price'], axis=1)\n",
    "y = df1['SH_Price']\n",
    "\n",
    "# print(X)\n",
    "# print(y)\n",
    "\n",
    "# one-hot encoding for all variables\n",
    "X = pd.get_dummies(X, columns=['Brand', 'Color', 'Condition', 'Date_Extracted'], drop_first=True)\n",
    "\n",
    "# split the data with 70/30 proportions for training and testing\n",
    "X_train, X_test, y_train, y_test = train_test_split(X, y, test_size=0.30, random_state=666)\n"
   ]
  },
  {
   "cell_type": "code",
   "execution_count": 19,
   "id": "e505c0f1",
   "metadata": {},
   "outputs": [
    {
     "data": {
      "text/plain": [
       "0.9047801578636343"
      ]
     },
     "execution_count": 19,
     "metadata": {},
     "output_type": "execute_result"
    }
   ],
   "source": [
    "### LINEAR REGRESSION\n",
    "\n",
    "linear_model = LinearRegression(fit_intercept=True)\n",
    "\n",
    "linear_model.fit(X_train,y_train)\n",
    "\n",
    "# model prediction\n",
    "y_predict = linear_model.predict(X_train)\n",
    "\n",
    "# model performance\n",
    "r2_score(y_train, y_predict)\n",
    "\n",
    "# model prediction\n",
    "y_predict = linear_model.predict(X_test)\n",
    "\n",
    "# test set\n",
    "r2_score(y_test, y_predict)"
   ]
  },
  {
   "cell_type": "code",
   "execution_count": 77,
   "id": "1bbef0fc",
   "metadata": {},
   "outputs": [
    {
     "data": {
      "text/plain": [
       "340.1382677064867"
      ]
     },
     "execution_count": 77,
     "metadata": {},
     "output_type": "execute_result"
    }
   ],
   "source": [
    "mean_absolute_error(y_test, y_predict)"
   ]
  },
  {
   "cell_type": "code",
   "execution_count": 20,
   "id": "e055b388",
   "metadata": {},
   "outputs": [
    {
     "data": {
      "text/plain": [
       "0.20757354032159897"
      ]
     },
     "execution_count": 20,
     "metadata": {},
     "output_type": "execute_result"
    }
   ],
   "source": [
    "mean_absolute_percentage_error(y_test, y_predict)"
   ]
  },
  {
   "cell_type": "code",
   "execution_count": 39,
   "id": "151f8479",
   "metadata": {},
   "outputs": [
    {
     "name": "stdout",
     "output_type": "stream",
     "text": [
      "Feature: 0, Score: 3.21758\n",
      "Feature: 1, Score: 113.23256\n",
      "Feature: 2, Score: 0.96226\n",
      "Feature: 3, Score: 0.22684\n",
      "Feature: 4, Score: -61.25900\n",
      "Feature: 5, Score: 324.71372\n",
      "Feature: 6, Score: 165.21492\n",
      "Feature: 7, Score: -1754.99464\n",
      "Feature: 8, Score: -1735.16985\n",
      "Feature: 9, Score: -2345.38653\n",
      "Feature: 10, Score: 235.56572\n",
      "Feature: 11, Score: 0.00000\n",
      "Feature: 12, Score: -44.13232\n",
      "Feature: 13, Score: 31.21838\n",
      "Feature: 14, Score: -89.67863\n",
      "Feature: 15, Score: 91.97796\n",
      "Feature: 16, Score: -34.15332\n",
      "Feature: 17, Score: 86.71136\n",
      "Feature: 18, Score: -21.66692\n",
      "Feature: 19, Score: -255.68881\n",
      "Feature: 20, Score: -42.95692\n",
      "Feature: 21, Score: -234.51066\n",
      "Feature: 22, Score: 386.93017\n",
      "Feature: 23, Score: 238.63911\n",
      "Feature: 24, Score: 118.73240\n",
      "Feature: 25, Score: -1.95761\n"
     ]
    },
    {
     "data": {
      "image/png": "[encoded data removed]",
      "text/plain": [
       "<Figure size 432x288 with 1 Axes>"
      ]
     },
     "metadata": {
      "needs_background": "light"
     },
     "output_type": "display_data"
    }
   ],
   "source": [
    "from sklearn.datasets import make_regression\n",
    "from sklearn.linear_model import LinearRegression\n",
    "from matplotlib import pyplot\n",
    "\n",
    "# get importance\n",
    "importance = linear_model.coef_\n",
    "# summarize feature importance\n",
    "for i,v in enumerate(importance):\n",
    "\tprint('Feature: %0d, Score: %.5f' % (i,v))\n",
    "# plot feature importance\n",
    "pyplot.bar([x for x in range(len(importance))], importance)\n",
    "pyplot.show()"
   ]
  },
  {
   "cell_type": "code",
   "execution_count": 21,
   "id": "76c67fab",
   "metadata": {},
   "outputs": [
    {
     "data": {
      "text/plain": [
       "0.960363515554717"
      ]
     },
     "execution_count": 21,
     "metadata": {},
     "output_type": "execute_result"
    }
   ],
   "source": [
    "### DECISION TREE\n",
    "\n",
    "# grid search & model selection and tuning\n",
    "param_grid = {'random_state': [80,90,100],\n",
    "              'max_depth': [10,20,30],\n",
    "              'min_samples_leaf': [3,5]}\n",
    "\n",
    "grid_dt = GridSearchCV(DecisionTreeRegressor(),\n",
    "                    param_grid, cv=5)\n",
    "\n",
    "grid_dt.fit(X_train, y_train)\n",
    "\n",
    "# best model\n",
    "best_model_dt = grid_dt.best_estimator_\n",
    "\n",
    "# best model score for the training set\n",
    "grid_dt.best_score_ \n",
    "\n",
    "# R2 score on the test set \n",
    "best_model_dt.score(X_test,y_test) \n",
    "\n",
    "\n",
    "\n"
   ]
  },
  {
   "cell_type": "code",
   "execution_count": 22,
   "id": "d9958168",
   "metadata": {},
   "outputs": [
    {
     "data": {
      "text/plain": [
       "DecisionTreeRegressor(max_depth=10, min_samples_leaf=5, random_state=90)"
      ]
     },
     "execution_count": 22,
     "metadata": {},
     "output_type": "execute_result"
    }
   ],
   "source": [
    "best_model_dt"
   ]
  },
  {
   "cell_type": "code",
   "execution_count": 23,
   "id": "dc87f000",
   "metadata": {},
   "outputs": [
    {
     "data": {
      "text/plain": [
       "123.54392239165554"
      ]
     },
     "execution_count": 23,
     "metadata": {},
     "output_type": "execute_result"
    }
   ],
   "source": [
    "y_predict = best_model_dt.predict(X_test)\n",
    "mean_absolute_error(y_test, y_predict)"
   ]
  },
  {
   "cell_type": "code",
   "execution_count": 24,
   "id": "7b73dff9",
   "metadata": {},
   "outputs": [
    {
     "data": {
      "text/plain": [
       "0.0704396370809591"
      ]
     },
     "execution_count": 24,
     "metadata": {},
     "output_type": "execute_result"
    }
   ],
   "source": [
    "mean_absolute_percentage_error(y_test, y_predict)"
   ]
  },
  {
   "cell_type": "code",
   "execution_count": 57,
   "id": "1fbdabb9",
   "metadata": {},
   "outputs": [
    {
     "name": "stdout",
     "output_type": "stream",
     "text": [
      "Feature: 0, Score: 0.47525\n",
      "Feature: 1, Score: 0.04080\n",
      "Feature: 2, Score: 0.09666\n",
      "Feature: 3, Score: 0.03339\n",
      "Feature: 4, Score: 0.03812\n",
      "Feature: 5, Score: 0.24684\n",
      "Feature: 6, Score: 0.03469\n",
      "Feature: 7, Score: 0.02877\n",
      "Feature: 8, Score: 0.00198\n",
      "Feature: 9, Score: 0.00023\n",
      "Feature: 10, Score: 0.00028\n",
      "Feature: 11, Score: 0.00000\n",
      "Feature: 12, Score: 0.00000\n",
      "Feature: 13, Score: 0.00000\n",
      "Feature: 14, Score: 0.00000\n",
      "Feature: 15, Score: 0.00001\n",
      "Feature: 16, Score: 0.00015\n",
      "Feature: 17, Score: 0.00000\n",
      "Feature: 18, Score: 0.00000\n",
      "Feature: 19, Score: 0.00000\n",
      "Feature: 20, Score: 0.00004\n",
      "Feature: 21, Score: 0.00000\n",
      "Feature: 22, Score: 0.00052\n",
      "Feature: 23, Score: 0.00011\n",
      "Feature: 24, Score: 0.00159\n",
      "Feature: 25, Score: 0.00057\n"
     ]
    },
    {
     "data": {
      "image/png": "[encoded data removed]",
      "text/plain": [
       "<Figure size 432x288 with 1 Axes>"
      ]
     },
     "metadata": {
      "needs_background": "light"
     },
     "output_type": "display_data"
    }
   ],
   "source": [
    "# # get importance\n",
    "importance = best_model_dt.feature_importances_\n",
    "# summarize feature importance\n",
    "for i, v in enumerate(importance):\n",
    "    print('Feature: %0d, Score: %.5f' % (i, v))\n",
    "# plot feature importance\n",
    "pyplot.bar([x for x in range(len(importance))], importance)\n",
    "pyplot.show()\n"
   ]
  },
  {
   "cell_type": "code",
   "execution_count": 58,
   "id": "972da54f",
   "metadata": {},
   "outputs": [
    {
     "data": {
      "text/plain": [
       "Memory                         64.0\n",
       "Ram                             4.0\n",
       "Resolution                    820.0\n",
       "Battery_size                 3110.0\n",
       "No_Rear_Cameras                 2.0\n",
       "Model_year                   2019.0\n",
       "Rating                          4.2\n",
       "Brand_Huawei                    0.0\n",
       "Brand_Samsung                   0.0\n",
       "Brand_Xiaomi                    0.0\n",
       "Color_Blue                      0.0\n",
       "Color_Bronze                    0.0\n",
       "Color_Coral                     0.0\n",
       "Color_Gold                      0.0\n",
       "Color_Green                     0.0\n",
       "Color_Grey                      0.0\n",
       "Color_Other                     0.0\n",
       "Color_Pink                      0.0\n",
       "Color_Purple                    0.0\n",
       "Color_Red                       0.0\n",
       "Color_White                     0.0\n",
       "Color_Yellow                    0.0\n",
       "Condition_  Ca Nou              1.0\n",
       "Condition_  Excelent            0.0\n",
       "Condition_  Foarte Bun          0.0\n",
       "Date_Extracted_30.04.2022       0.0\n",
       "Name: 384, dtype: float64"
      ]
     },
     "execution_count": 58,
     "metadata": {},
     "output_type": "execute_result"
    }
   ],
   "source": [
    "X_test.iloc[10]"
   ]
  },
  {
   "cell_type": "code",
   "execution_count": 28,
   "id": "18cd9fbe",
   "metadata": {},
   "outputs": [
    {
     "name": "stdout",
     "output_type": "stream",
     "text": [
      "RandomForestRegressor(max_depth=180, min_samples_split=25, n_estimators=600)\n",
      "0.9562281796632428\n",
      "0.966626865107659\n"
     ]
    }
   ],
   "source": [
    "## RF \n",
    "\n",
    "# model selection and tuning\n",
    "param_grid = {'n_estimators': [580, 590, 600],\n",
    "              'max_depth': [180, 190, 200],\n",
    "              'min_samples_split': [25, 50]}\n",
    "\n",
    "grid_rf = GridSearchCV(RandomForestRegressor(),\n",
    "                       param_grid, cv=10)\n",
    "\n",
    "grid_rf.fit(X_train, y_train)\n",
    "\n",
    "# best model\n",
    "best_model_rf = grid_rf.best_estimator_\n",
    "print(best_model_rf)\n",
    "\n",
    "# best model score for the training set\n",
    "print(grid_rf.best_score_)\n",
    "\n",
    "# R2 score on the test set\n",
    "print(best_model_rf.score(X_test, y_test))\n"
   ]
  },
  {
   "cell_type": "code",
   "execution_count": 9,
   "id": "b8996079",
   "metadata": {},
   "outputs": [
    {
     "name": "stdout",
     "output_type": "stream",
     "text": [
      "RandomForestRegressor(max_depth=200, min_samples_split=5, n_estimators=200)\n",
      "0.9936424097757651\n",
      "0.9943722398558075\n"
     ]
    }
   ],
   "source": [
    "###DIFFERENT PARAMETERS\n",
    "\n",
    "## RF \n",
    "\n",
    "# model selection and tuning\n",
    "param_grid = {'n_estimators': [100, 200, 300, 400],\n",
    "              'max_depth': [50, 100, 150, 200],\n",
    "              'min_samples_split': [5, 10, 25, 50]}\n",
    "\n",
    "grid_rf = GridSearchCV(RandomForestRegressor(),\n",
    "                       param_grid, cv=5)\n",
    "\n",
    "grid_rf.fit(X_train, y_train)\n",
    "\n",
    "# best model\n",
    "best_model_rf = grid_rf.best_estimator_\n",
    "print(best_model_rf)\n",
    "\n",
    "# best model score for the training set\n",
    "print(grid_rf.best_score_)\n",
    "\n",
    "# R2 score on the test set\n",
    "print(best_model_rf.score(X_test, y_test))\n"
   ]
  },
  {
   "cell_type": "code",
   "execution_count": 29,
   "id": "960b6499",
   "metadata": {},
   "outputs": [
    {
     "data": {
      "text/plain": [
       "173.07496489470722"
      ]
     },
     "execution_count": 29,
     "metadata": {},
     "output_type": "execute_result"
    }
   ],
   "source": [
    "y_pred = best_model_rf.predict(X_test)\n",
    "\n",
    "mean_absolute_error(y_test, y_pred)"
   ]
  },
  {
   "cell_type": "code",
   "execution_count": 30,
   "id": "86e27218",
   "metadata": {},
   "outputs": [
    {
     "data": {
      "text/plain": [
       "0.09048547037134994"
      ]
     },
     "execution_count": 30,
     "metadata": {},
     "output_type": "execute_result"
    }
   ],
   "source": [
    "mean_absolute_percentage_error(y_test, y_pred)"
   ]
  },
  {
   "cell_type": "code",
   "execution_count": 64,
   "id": "faa4c9d8",
   "metadata": {},
   "outputs": [
    {
     "name": "stdout",
     "output_type": "stream",
     "text": [
      "Feature: 0, Score: 0.46778\n",
      "Feature: 1, Score: 0.04337\n",
      "Feature: 2, Score: 0.17631\n",
      "Feature: 3, Score: 0.05244\n",
      "Feature: 4, Score: 0.01308\n",
      "Feature: 5, Score: 0.17731\n",
      "Feature: 6, Score: 0.05431\n",
      "Feature: 7, Score: 0.01040\n",
      "Feature: 8, Score: 0.00163\n",
      "Feature: 9, Score: 0.00251\n",
      "Feature: 10, Score: 0.00046\n",
      "Feature: 11, Score: 0.00000\n",
      "Feature: 12, Score: 0.00000\n",
      "Feature: 13, Score: 0.00001\n",
      "Feature: 14, Score: 0.00004\n",
      "Feature: 15, Score: 0.00009\n",
      "Feature: 16, Score: 0.00002\n",
      "Feature: 17, Score: 0.00002\n",
      "Feature: 18, Score: 0.00000\n",
      "Feature: 19, Score: 0.00000\n",
      "Feature: 20, Score: 0.00001\n",
      "Feature: 21, Score: 0.00000\n",
      "Feature: 22, Score: 0.00008\n",
      "Feature: 23, Score: 0.00005\n",
      "Feature: 24, Score: 0.00009\n",
      "Feature: 25, Score: 0.00000\n"
     ]
    },
    {
     "data": {
      "image/png": "[encoded data removed]",
      "text/plain": [
       "<Figure size 432x288 with 1 Axes>"
      ]
     },
     "metadata": {
      "needs_background": "light"
     },
     "output_type": "display_data"
    }
   ],
   "source": [
    "# # get importance\n",
    "importance = best_model_rf.feature_importances_\n",
    "# summarize feature importance\n",
    "for i, v in enumerate(importance):\n",
    "    print('Feature: %0d, Score: %.5f' % (i, v))\n",
    "# plot feature importance\n",
    "pyplot.bar([x for x in range(len(importance))], importance)\n",
    "pyplot.show()"
   ]
  },
  {
   "cell_type": "code",
   "execution_count": 65,
   "id": "117db67b",
   "metadata": {},
   "outputs": [
    {
     "data": {
      "text/plain": [
       "Memory                         64.0\n",
       "Ram                             4.0\n",
       "Resolution                    820.0\n",
       "Battery_size                 3110.0\n",
       "No_Rear_Cameras                 2.0\n",
       "Model_year                   2019.0\n",
       "Rating                          4.2\n",
       "Brand_Huawei                    0.0\n",
       "Brand_Samsung                   0.0\n",
       "Brand_Xiaomi                    0.0\n",
       "Color_Blue                      0.0\n",
       "Color_Bronze                    0.0\n",
       "Color_Coral                     0.0\n",
       "Color_Gold                      0.0\n",
       "Color_Green                     0.0\n",
       "Color_Grey                      0.0\n",
       "Color_Other                     0.0\n",
       "Color_Pink                      0.0\n",
       "Color_Purple                    0.0\n",
       "Color_Red                       0.0\n",
       "Color_White                     0.0\n",
       "Color_Yellow                    0.0\n",
       "Condition_  Ca Nou              1.0\n",
       "Condition_  Excelent            0.0\n",
       "Condition_  Foarte Bun          0.0\n",
       "Date_Extracted_30.04.2022       0.0\n",
       "Name: 384, dtype: float64"
      ]
     },
     "execution_count": 65,
     "metadata": {},
     "output_type": "execute_result"
    }
   ],
   "source": [
    "X_test.iloc[10]"
   ]
  },
  {
   "cell_type": "code",
   "execution_count": 31,
   "id": "cf8c7a7d",
   "metadata": {},
   "outputs": [
    {
     "name": "stdout",
     "output_type": "stream",
     "text": [
      "GradientBoostingRegressor(learning_rate=0.5, n_estimators=200)\n",
      "0.9936316385749757\n"
     ]
    }
   ],
   "source": [
    "### GRADIENT BOOSTING REGRESSION\n",
    "\n",
    "\n",
    "\n",
    "\n",
    "param_grid = {'n_estimators': [50, 100, 200],\n",
    "              'learning_rate': [.01, .1, .5, 1, 1.5]}\n",
    "\n",
    "grid_br = GridSearchCV(GradientBoostingRegressor(),\n",
    "                       param_grid, cv=5)\n",
    "\n",
    "grid_br.fit(X_train, y_train)\n",
    "\n",
    "grid_br.best_params_\n",
    "\n",
    "# best model\n",
    "best_model_br = grid_br.best_estimator_\n",
    "print(best_model_br)\n",
    "# best model score for the training set\n",
    "grid_br.best_score_\n",
    "\n",
    "# best model score for the test set\n",
    "# test set checking\n",
    "print(best_model_br.score(X_test, y_test))\n"
   ]
  },
  {
   "cell_type": "code",
   "execution_count": 32,
   "id": "63739111",
   "metadata": {},
   "outputs": [
    {
     "data": {
      "text/plain": [
       "63.21146667166422"
      ]
     },
     "execution_count": 32,
     "metadata": {},
     "output_type": "execute_result"
    }
   ],
   "source": [
    "y_pred = best_model_br.predict(X_test)\n",
    "\n",
    "mean_absolute_error(y_test, y_pred)"
   ]
  },
  {
   "cell_type": "code",
   "execution_count": 33,
   "id": "3481c87a",
   "metadata": {},
   "outputs": [
    {
     "data": {
      "text/plain": [
       "0.035950287584297275"
      ]
     },
     "execution_count": 33,
     "metadata": {},
     "output_type": "execute_result"
    }
   ],
   "source": [
    "mean_absolute_percentage_error(y_test, y_pred)"
   ]
  },
  {
   "cell_type": "code",
   "execution_count": 74,
   "id": "ad8da849",
   "metadata": {},
   "outputs": [
    {
     "name": "stdout",
     "output_type": "stream",
     "text": [
      "Feature: 0, Score: 0.46755\n",
      "Feature: 1, Score: 0.06383\n",
      "Feature: 2, Score: 0.11451\n",
      "Feature: 3, Score: 0.03667\n",
      "Feature: 4, Score: 0.00736\n",
      "Feature: 5, Score: 0.23632\n",
      "Feature: 6, Score: 0.03812\n",
      "Feature: 7, Score: 0.01096\n",
      "Feature: 8, Score: 0.00465\n",
      "Feature: 9, Score: 0.01255\n",
      "Feature: 10, Score: 0.00072\n",
      "Feature: 11, Score: 0.00000\n",
      "Feature: 12, Score: 0.00000\n",
      "Feature: 13, Score: 0.00017\n",
      "Feature: 14, Score: 0.00005\n",
      "Feature: 15, Score: 0.00090\n",
      "Feature: 16, Score: 0.00033\n",
      "Feature: 17, Score: 0.00061\n",
      "Feature: 18, Score: 0.00002\n",
      "Feature: 19, Score: 0.00003\n",
      "Feature: 20, Score: 0.00038\n",
      "Feature: 21, Score: 0.00000\n",
      "Feature: 22, Score: 0.00085\n",
      "Feature: 23, Score: 0.00221\n",
      "Feature: 24, Score: 0.00085\n",
      "Feature: 25, Score: 0.00036\n"
     ]
    },
    {
     "data": {
      "image/png": "[encoded data removed]",
      "text/plain": [
       "<Figure size 432x288 with 1 Axes>"
      ]
     },
     "metadata": {
      "needs_background": "light"
     },
     "output_type": "display_data"
    }
   ],
   "source": [
    "# # get importance\n",
    "importance = best_model_br.feature_importances_\n",
    "# summarize feature importance\n",
    "for i, v in enumerate(importance):\n",
    "    print('Feature: %0d, Score: %.5f' % (i, v))\n",
    "# plot feature importance\n",
    "pyplot.bar([x for x in range(len(importance))], importance)\n",
    "pyplot.show()"
   ]
  },
  {
   "cell_type": "code",
   "execution_count": 75,
   "id": "9f161a65",
   "metadata": {},
   "outputs": [
    {
     "data": {
      "text/plain": [
       "Memory                         64.0\n",
       "Ram                             4.0\n",
       "Resolution                    820.0\n",
       "Battery_size                 3110.0\n",
       "No_Rear_Cameras                 2.0\n",
       "Model_year                   2019.0\n",
       "Rating                          4.2\n",
       "Brand_Huawei                    0.0\n",
       "Brand_Samsung                   0.0\n",
       "Brand_Xiaomi                    0.0\n",
       "Color_Blue                      0.0\n",
       "Color_Bronze                    0.0\n",
       "Color_Coral                     0.0\n",
       "Color_Gold                      0.0\n",
       "Color_Green                     0.0\n",
       "Color_Grey                      0.0\n",
       "Color_Other                     0.0\n",
       "Color_Pink                      0.0\n",
       "Color_Purple                    0.0\n",
       "Color_Red                       0.0\n",
       "Color_White                     0.0\n",
       "Color_Yellow                    0.0\n",
       "Condition_  Ca Nou              1.0\n",
       "Condition_  Excelent            0.0\n",
       "Condition_  Foarte Bun          0.0\n",
       "Date_Extracted_30.04.2022       0.0\n",
       "Name: 384, dtype: float64"
      ]
     },
     "execution_count": 75,
     "metadata": {},
     "output_type": "execute_result"
    }
   ],
   "source": [
    "X_test.iloc[10]"
   ]
  },
  {
   "cell_type": "code",
   "execution_count": null,
   "id": "bb468f08",
   "metadata": {},
   "outputs": [],
   "source": []
  }
 ],
 "metadata": {
  "kernelspec": {
   "display_name": "Python 3 (ipykernel)",
   "language": "python",
   "name": "python3"
  },
  "language_info": {
   "codemirror_mode": {
    "name": "ipython",
    "version": 3
   },
   "file_extension": ".py",
   "mimetype": "text/x-python",
   "name": "python",
   "nbconvert_exporter": "python",
   "pygments_lexer": "ipython3",
   "version": "3.8.12"
  }
 },
 "nbformat": 4,
 "nbformat_minor": 5
}
